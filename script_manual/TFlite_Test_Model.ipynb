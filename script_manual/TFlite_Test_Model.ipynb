{
 "cells": [
  {
   "cell_type": "code",
   "execution_count": 1,
   "id": "00feaf1a",
   "metadata": {},
   "outputs": [],
   "source": [
    "import tflite_runtime.interpreter as tflite\n",
    "import numpy as np\n",
    "from PIL import Image "
   ]
  },
  {
   "cell_type": "code",
   "execution_count": 2,
   "id": "a1bfecd3",
   "metadata": {},
   "outputs": [],
   "source": [
    "interpreter = tflite.Interpreter(model_path=\"dig1050s2q.tflite\")\n",
    "interpreter.allocate_tensors()"
   ]
  },
  {
   "cell_type": "code",
   "execution_count": 3,
   "id": "b2a34ac7",
   "metadata": {},
   "outputs": [],
   "source": [
    "aktfile = \"0_digit2_20210713-063327.jpg\"\n",
    "test_image = Image.open(aktfile)\n",
    "test_image = test_image.resize((20, 32), Image.NEAREST)\n",
    "test_image = np.array(test_image, dtype=\"float32\")\n",
    "img = np.reshape(test_image,[1,32,20,3])"
   ]
  },
  {
   "cell_type": "code",
   "execution_count": 4,
   "id": "a52dde06",
   "metadata": {},
   "outputs": [
    {
     "name": "stdout",
     "output_type": "stream",
     "text": [
      "[{'name': 'batch_normalization_input', 'index': 26, 'shape': array([ 1, 32, 20,  3]), 'shape_signature': array([-1, 32, 20,  3]), 'dtype': <class 'numpy.float32'>, 'quantization': (0.0, 0), 'quantization_parameters': {'scales': array([], dtype=float32), 'zero_points': array([], dtype=int32), 'quantized_dimension': 0}, 'sparsity_parameters': {}}]\n",
      "[{'name': 'Identity', 'index': 27, 'shape': array([ 1, 11]), 'shape_signature': array([-1, 11]), 'dtype': <class 'numpy.float32'>, 'quantization': (0.0, 0), 'quantization_parameters': {'scales': array([], dtype=float32), 'zero_points': array([], dtype=int32), 'quantized_dimension': 0}, 'sparsity_parameters': {}}]\n"
     ]
    }
   ],
   "source": [
    "input_details = interpreter.get_input_details()\n",
    "output_details = interpreter.get_output_details()\n",
    "# input details\n",
    "print(input_details)\n",
    "# output details\n",
    "print(output_details)"
   ]
  },
  {
   "cell_type": "code",
   "execution_count": 5,
   "id": "827d43d3",
   "metadata": {},
   "outputs": [
    {
     "name": "stdout",
     "output_type": "stream",
     "text": [
      "[[0.         0.         0.         0.         0.         0.\n",
      "  0.         0.         0.         0.99609375 0.        ]]\n",
      "9\n"
     ]
    }
   ],
   "source": [
    "interpreter.set_tensor(input_details[0]['index'], img)\n",
    "interpreter.invoke()\n",
    "output_data = interpreter.get_tensor(output_details[0]['index'])\n",
    "print(output_data)\n",
    "print(np.argmax(output_data))"
   ]
  },
  {
   "cell_type": "code",
   "execution_count": 6,
   "id": "8678064d",
   "metadata": {},
   "outputs": [
    {
     "name": "stdout",
     "output_type": "stream",
     "text": [
      "9\n"
     ]
    }
   ],
   "source": [
    "print(np.argmax(output_data))"
   ]
  },
  {
   "cell_type": "code",
   "execution_count": null,
   "id": "e30dac5c",
   "metadata": {},
   "outputs": [],
   "source": []
  }
 ],
 "metadata": {
  "kernelspec": {
   "display_name": "Python 3 (ipykernel)",
   "language": "python",
   "name": "python3"
  },
  "language_info": {
   "codemirror_mode": {
    "name": "ipython",
    "version": 3
   },
   "file_extension": ".py",
   "mimetype": "text/x-python",
   "name": "python",
   "nbconvert_exporter": "python",
   "pygments_lexer": "ipython3",
   "version": "3.9.7"
  }
 },
 "nbformat": 4,
 "nbformat_minor": 5
}
