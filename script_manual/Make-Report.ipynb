{
 "cells": [
  {
   "cell_type": "code",
   "execution_count": null,
   "id": "06991cf1-c14a-4c4f-991b-0c8a333f8e24",
   "metadata": {},
   "outputs": [],
   "source": [
    "import sys,os\n",
    "sys.path.append(os.path.realpath('..'))\n",
    "import c_scripts.resize\n",
    "\n",
    "import csv\n",
    "import numpy\n",
    "import matplotlib\n",
    "import matplotlib.pyplot as plt\n",
    "from PIL import Image \n",
    "from fpdf import FPDF\n",
    "import c_scripts.train_CNN\n",
    "import glob\n",
    "import os"
   ]
  },
  {
   "cell_type": "code",
   "execution_count": null,
   "id": "861a5b2c-bf4d-4557-8870-838cd323f0ea",
   "metadata": {},
   "outputs": [],
   "source": [
    "DefaultName = sys.argv[1]\n",
    "print(DefaultName)\n",
    "DefaultName = \"dig-s0\""
   ]
  },
  {
   "cell_type": "code",
   "execution_count": null,
   "id": "651dba64-0cf5-4fd0-bf7c-ebb1ab7bf4c7",
   "metadata": {},
   "outputs": [],
   "source": [
    "#Allgemeine Einstellungen\n",
    "exec(open(\"../configuration.py\").read())"
   ]
  },
  {
   "cell_type": "code",
   "execution_count": null,
   "id": "45ca04a1-fb4c-4989-be46-ebc2f50b858e",
   "metadata": {},
   "outputs": [],
   "source": [
    "def fig2img(fig, _x = -1, _y = -1):\n",
    "    import io\n",
    "    buf = io.BytesIO()\n",
    "    fig.savefig(buf)\n",
    "    buf.seek(0)\n",
    "    img = Image.open(buf) \n",
    "    if _x > -1 & _y > -1:\n",
    "        img = img.resize((_x, _y))\n",
    "    else:\n",
    "        if _x > -1:\n",
    "            width, height = img.size;\n",
    "            width = int(_x * width);\n",
    "            height = int(_x * height);\n",
    "            img = img.resize((width, height))\n",
    "    return img\n",
    "    \n",
    "\n",
    "def fil2file(fig, file):\n",
    "    import io\n",
    "    buf = io.BytesIO()\n",
    "    fig.savefig(buf)\n",
    "    buf.seek(0)\n",
    "    img = Image.open(buf)  \n",
    "    img.save(file,\"png\")"
   ]
  },
  {
   "cell_type": "code",
   "execution_count": null,
   "id": "b2ff9b8a-87f7-4783-8668-13b529f41c82",
   "metadata": {},
   "outputs": [],
   "source": [
    "result = []\n",
    "result.append(numpy.empty([0]))\n",
    "result.append(numpy.empty([0]))\n",
    "result.append(numpy.empty([0]))\n",
    "result.append(numpy.empty([0]))\n",
    "result.append(numpy.empty([0]))\n",
    "\n",
    "loadname = '../b_output_historic/training_' + DefaultName + '.txt'\n",
    "\n",
    "with open(loadname, newline = '') as data:\n",
    "    data_reader = csv.reader(data, delimiter='\\t')\n",
    "    for line in data_reader:\n",
    "        datum = line[0]\n",
    "        anzBilder = line[1]\n",
    "        lfdnumber = int(line[2])\n",
    "        loss_eval = float(line[3])\n",
    "        loss_train = float(line[4])\n",
    "        result[0] = numpy.append(result[0], datum)\n",
    "        result[1] = numpy.append(result[1], anzBilder)\n",
    "        result[2] = numpy.append(result[2], lfdnumber)\n",
    "        result[3] = numpy.append(result[3], loss_eval)\n",
    "        result[4] = numpy.append(result[4], loss_train)\n",
    "\n",
    "#print(result)"
   ]
  },
  {
   "cell_type": "code",
   "execution_count": null,
   "id": "d18cfe84-580d-41e7-9786-83380b740ba4",
   "metadata": {},
   "outputs": [],
   "source": [
    "pdf = FPDF();\n",
    "pdf.add_page();\n",
    "#pdf.unbreakable()\n",
    "pdf.set_font('Arial', 'B', 20);\n",
    "pdf.cell(txt=DefaultName);"
   ]
  },
  {
   "cell_type": "code",
   "execution_count": null,
   "id": "6e9bfe70-639c-4954-8c69-9011a4eccb59",
   "metadata": {},
   "outputs": [],
   "source": [
    "fig, ax = plt.subplots();\n",
    "plt.semilogy(result[3]);\n",
    "plt.semilogy(result[4]);\n",
    "\n",
    "plt.title('model loss');\n",
    "plt.ylabel('loss');\n",
    "plt.xlabel('epoch');\n",
    "plt.legend(['train','eval'], loc='upper left');\n",
    "\n",
    "pdf.image(fig2img(fig), x=30, y=10, w=150);"
   ]
  },
  {
   "cell_type": "code",
   "execution_count": null,
   "id": "842f4218-398f-483a-9943-e6dde729e2cc",
   "metadata": {},
   "outputs": [],
   "source": [
    "#fig, ax = plt.subplots();\n",
    "#plt.ioff();\n",
    "#plt.plot(result[0]);\n",
    "#plt.xlabel('trainings run');\n",
    "#plt.legend(['date','eval'], loc='upper left');\n",
    "\n",
    "#pdf.image(fig2img(fig, 0.9), x=30, y=110, w=150);"
   ]
  },
  {
   "cell_type": "code",
   "execution_count": null,
   "id": "05cb841a-cbaa-4674-9141-7d5248221b93",
   "metadata": {},
   "outputs": [],
   "source": [
    "fig, ax = plt.subplots()\n",
    "plt.plot(result[1])\n",
    "plt.xlabel('number of images')\n",
    "plt.legend(['date','eval'], loc='upper left')\n",
    "\n",
    "pdf.image(fig2img(fig), x=30, y=110, w=150);"
   ]
  },
  {
   "cell_type": "code",
   "execution_count": null,
   "id": "76a493da-d2e3-4cce-8366-9086a23150ed",
   "metadata": {},
   "outputs": [],
   "source": [
    "pdf.add_page();\n",
    "pdf.set_font('Arial', '', 12);"
   ]
  },
  {
   "cell_type": "code",
   "execution_count": null,
   "id": "1abc06ad-b51f-459c-a848-3b826ef3e690",
   "metadata": {},
   "outputs": [],
   "source": [
    "model = c_scripts.train_CNN.load_model('../a_output_actual/' + DefaultName)"
   ]
  },
  {
   "cell_type": "code",
   "execution_count": null,
   "id": "16704d1b-3a55-448c-b1d3-024cf9dbf1bc",
   "metadata": {},
   "outputs": [],
   "source": [
    "actx = pdf.get_x()\n",
    "acty = pdf.get_y()\n",
    "\n",
    "\n",
    "Input_dir='../ziffer_resize'\n",
    "res = []\n",
    "only_deviation = True\n",
    "show_wrong_image = True\n",
    "\n",
    "recognition_bad = 0\n",
    "recognition_good = 0\n",
    "\n",
    "files = glob.glob(Input_dir + '/*.jpg')\n",
    "files.sort()\n",
    "\n",
    "for aktfile in files:\n",
    "    base = os.path.basename(aktfile)\n",
    "    target = base[0:1]\n",
    "    if target == \"N\":\n",
    "        zw1 = -1\n",
    "    else:\n",
    "        zw1 = int(target)\n",
    "    expected_class = zw1\n",
    "    image_in = Image.open(aktfile)\n",
    "    test_image = numpy.array(image_in, dtype=\"float32\")\n",
    "    img = numpy.reshape(test_image,[1,target_size_y,target_size_x,3])\n",
    "    classes = numpy.argmax(model.predict(img), axis=-1)\n",
    "    classes = classes[0]\n",
    "    if classes == 10: \n",
    "        classes = -1\n",
    "    zw2 = classes\n",
    "    zw3 = zw2 - zw1\n",
    "    res.append(numpy.array([zw1, zw2, zw3]))\n",
    "    if str(classes) != str(expected_class):\n",
    "        _zwtxt = aktfile + \" \" + str(expected_class) +  \" \" + str(classes)\n",
    "#        print(aktfile + \" \" + str(expected_class) +  \" \" + str(classes))\n",
    "        if show_wrong_image == True:\n",
    "            display(image_in)\n",
    "        recognition_bad = recognition_bad + 1\n",
    "        pdf.image(image_in)\n",
    "        actyneu = pdf.get_y()\n",
    "        pdf.set_y(acty)\n",
    "        pdf.set_x(30)\n",
    "        pdf.cell(txt=_zwtxt)\n",
    "        pdf.ln()\n",
    "        acty = actyneu\n",
    "        pdf.set_y(acty)\n",
    "        pdf.set_x(actx)\n",
    "    else:\n",
    "        recognition_good = recognition_good + 1"
   ]
  },
  {
   "cell_type": "code",
   "execution_count": null,
   "id": "3b041a4c-8218-4898-90c0-7e9e10a851f2",
   "metadata": {},
   "outputs": [],
   "source": [
    "res = numpy.asarray(res)"
   ]
  },
  {
   "cell_type": "code",
   "execution_count": null,
   "id": "7641662e-6fc0-4b82-8a0d-0e7b3a3e9c6f",
   "metadata": {},
   "outputs": [],
   "source": [
    "fig, ax = plt.subplots();\n",
    "plt.plot(res[:,0]);\n",
    "plt.plot(res[:,1]);\n",
    "plt.title('Result');\n",
    "plt.ylabel('Digital Value');\n",
    "plt.xlabel('#Picture');\n",
    "plt.legend(['real','model'], loc='upper left');\n",
    "pdf.image(fig2img(fig), w=150);"
   ]
  },
  {
   "cell_type": "code",
   "execution_count": null,
   "id": "746e31a7-1171-4c2f-b891-0bf298c35df3",
   "metadata": {},
   "outputs": [],
   "source": [
    "pdf.ln()\n",
    "_zwtxt = \"Total number of images:    \" + str(recognition_good + recognition_bad)\n",
    "pdf.cell(txt=_zwtxt)\n",
    "pdf.ln()\n",
    "_zwtxt = \"Number of bad images:      \" + str(recognition_bad)\n",
    "pdf.cell(txt=_zwtxt)\n",
    "pdf.ln()\n",
    "_zwtxt = \"Percentage of good images: \" + \"%.1f\" % (100*recognition_good/(recognition_good + recognition_bad)) + \"%\"\n",
    "pdf.cell(txt=_zwtxt)"
   ]
  },
  {
   "cell_type": "code",
   "execution_count": null,
   "id": "39a8226c-1e9d-4e5d-9346-3ef49091a275",
   "metadata": {},
   "outputs": [],
   "source": [
    "pdf.output(DefaultName + \".pdf\", 'F')\n",
    "pdf.output(\"../b_output_historic/reports/\" + DateNow + \"-\" + TimeNow + \"_\" + DefaultName + \".pdf\", 'F')\n"
   ]
  },
  {
   "cell_type": "code",
   "execution_count": null,
   "id": "85e5a736-c493-4f83-9df9-16566095cd11",
   "metadata": {},
   "outputs": [],
   "source": []
  },
  {
   "cell_type": "code",
   "execution_count": null,
   "id": "ff8d991f-91af-41af-95de-c79ae5f2b10d",
   "metadata": {},
   "outputs": [],
   "source": []
  }
 ],
 "metadata": {
  "kernelspec": {
   "display_name": "Python 3 (ipykernel)",
   "language": "python",
   "name": "python3"
  },
  "language_info": {
   "codemirror_mode": {
    "name": "ipython",
    "version": 3
   },
   "file_extension": ".py",
   "mimetype": "text/x-python",
   "name": "python",
   "nbconvert_exporter": "python",
   "pygments_lexer": "ipython3",
   "version": "3.8.12"
  }
 },
 "nbformat": 4,
 "nbformat_minor": 5
}
