{
 "cells": [
  {
   "cell_type": "code",
   "execution_count": null,
   "id": "ef3a6ad8-b9d7-441c-b5cc-ad7f8b63e4c4",
   "metadata": {},
   "outputs": [],
   "source": [
    "from PIL import Image, ImageDraw\n",
    "import glob\n",
    "import os\n",
    "import shutil\n",
    "from matplotlib import pyplot"
   ]
  },
  {
   "cell_type": "code",
   "execution_count": null,
   "id": "02f9d843-2553-4ca5-b542-5a2fb60df50d",
   "metadata": {
    "tags": []
   },
   "outputs": [],
   "source": [
    "left = 0.2\n",
    "oben = 0.2\n",
    "hoehe = 0.6\n",
    "breite = 0.6\n",
    "\n",
    "target_x = 20\n",
    "target_y = 32\n",
    "\n",
    "tolerance_band = 0.05\n",
    "\n",
    "\n",
    "Input_dir='image_new'\n",
    "Output_okay = 'output_okay'\n",
    "Output_not_okay = 'output_not_okay'\n"
   ]
  },
  {
   "cell_type": "code",
   "execution_count": null,
   "id": "6db887ff-c1d6-4df9-9e50-ec53e8fecc50",
   "metadata": {},
   "outputs": [],
   "source": [
    "files = glob.glob(Input_dir + '/*.jpg')\n",
    "files = files + glob.glob(Input_dir + '/*.png')\n",
    "files = files + glob.glob(Input_dir + '/*.bmp')\n",
    "\n",
    "for aktfile in files:\n",
    "#    print(aktfile)\n",
    "    base = os.path.basename(aktfile)\n",
    "    test_image = Image.open(aktfile)\n",
    "    print(test_image.size)\n",
    "\n",
    "    offset_x = test_image.size[0] * tolerance_band\n",
    "    offset_y = test_image.size[1] * tolerance_band\n",
    "    \n",
    "#    fig, axs = pyplot.subplots(2, sharex='col', sharey='row', gridspec_kw={'hspace': 0, 'wspace': 0})\n",
    "    fig, axs = pyplot.subplots(1, 2, gridspec_kw={'hspace': 0, 'wspace': 0})\n",
    "    \n",
    "    draw = ImageDraw.Draw(test_image)\n",
    "#    shape = [(test_image.size[0] * left, test_image.size[1] * oben), (test_image.size[0] * (left + breite), test_image.size[1] * (oben + hoehe))]\n",
    "    shape = [(test_image.size[0] * left+offset_x, test_image.size[1] * oben+offset_y), (test_image.size[0] * (left + breite)-offset_x, test_image.size[1] * (oben + hoehe)-offset_y)]\n",
    "    draw.rectangle(shape, outline =\"white\")\n",
    "    shape = [(test_image.size[0] * left-offset_x, test_image.size[1] * oben-offset_y), (test_image.size[0] * (left + breite)+offset_x, test_image.size[1] * (oben + hoehe)+offset_y)]\n",
    "    draw.rectangle(shape, outline =\"white\")\n",
    "    draw.line((test_image.size[0] * left, test_image.size[1]*0.5) + (test_image.size[0] * (left+breite), test_image.size[1]*0.5))\n",
    "\n",
    "    axs[0].imshow(test_image)\n",
    "    display(test_image)\n",
    "    \n",
    "    test_image = Image.open(aktfile)\n",
    "\n",
    "    test_image = test_image.resize((target_x, target_y))\n",
    "    shape = [(test_image.size[0] * left, test_image.size[1] * oben), (test_image.size[0] * (left + breite), test_image.size[1] * (oben + hoehe))]\n",
    "    draw = ImageDraw.Draw(test_image)\n",
    "    draw.rectangle(shape, outline =\"white\")\n",
    "    draw.line((test_image.size[0] * left, test_image.size[1]*0.5) + (test_image.size[0] * (left+breite), test_image.size[1]*0.5))\n",
    "    axs[1].imshow(test_image)\n",
    "    pyplot.show()\n",
    "#    display(test_image)\n",
    "    \n",
    "#    test = input()\n",
    "#    if test == \"a\":    # Bild ist okay !!!\n",
    "#        shutil.move(aktfile, Output_okay + \"/\" +  base)\n",
    "#    if test == \"f\":             # Bild ist nicht okay !!!\n",
    "#        shutil.move(aktfile, Output_not_okay + \"/\" + base)\n",
    "        \n"
   ]
  },
  {
   "cell_type": "code",
   "execution_count": null,
   "id": "7c8621b4-0c73-4f40-b26e-c350518cd737",
   "metadata": {},
   "outputs": [],
   "source": []
  }
 ],
 "metadata": {
  "kernelspec": {
   "display_name": "Python 3 (ipykernel)",
   "language": "python",
   "name": "python3"
  },
  "language_info": {
   "codemirror_mode": {
    "name": "ipython",
    "version": 3
   },
   "file_extension": ".py",
   "mimetype": "text/x-python",
   "name": "python",
   "nbconvert_exporter": "python",
   "pygments_lexer": "ipython3",
   "version": "3.9.7"
  }
 },
 "nbformat": 4,
 "nbformat_minor": 5
}
