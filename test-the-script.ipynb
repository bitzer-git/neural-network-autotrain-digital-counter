{
 "cells": [
  {
   "cell_type": "code",
   "execution_count": null,
   "id": "245ae981-705a-4929-aef0-f3bca1d82beb",
   "metadata": {},
   "outputs": [],
   "source": [
    "import sys\n",
    "import os"
   ]
  },
  {
   "cell_type": "code",
   "execution_count": null,
   "id": "f0419f33-eb4a-4b4b-b857-d24ef1bb157d",
   "metadata": {},
   "outputs": [],
   "source": [
    "exec(open(\"configuration.py\").read())"
   ]
  },
  {
   "cell_type": "code",
   "execution_count": null,
   "id": "696a908a-c5af-4a0a-ade7-12442854950e",
   "metadata": {},
   "outputs": [],
   "source": [
    "original_stdout = sys.stdout\n",
    "if LogFile:\n",
    "    if os.path.exists(LogFile):\n",
    "        os.remove(LogFile)"
   ]
  },
  {
   "cell_type": "code",
   "execution_count": null,
   "id": "b629ff36-70d3-413f-b1f8-b59f6e40b611",
   "metadata": {
    "tags": []
   },
   "outputs": [],
   "source": [
    "if not ReportOnly:\n",
    "    exec(open(\"c_scripts/image_preparation.py\").read())"
   ]
  },
  {
   "cell_type": "code",
   "execution_count": null,
   "id": "27c6383d-5d22-4c3f-8281-38fc5b990e78",
   "metadata": {},
   "outputs": [],
   "source": [
    "for x in configurations:\n",
    "    arg1 = x\n",
    "    arg2 = x\n",
    "    if not ReportOnly:\n",
    "#        print(\"Das ist in Script - Teil 1: \" + str(arg1))\n",
    "        a_script = open(\"c_scripts//doTraining.py\").read()\n",
    "        sys.argv = [\"c_scripts//doTraining.py\", arg1]\n",
    "        exec(a_script)\n",
    "#    print(\"Das ist in Script - Teil 2: \" + str(arg2))\n",
    "    b_script = open(\"c_scripts//doReport.py\").read()\n",
    "    sys.argv = [\"c_scripts//doReport.py\", arg2]\n",
    "    exec(b_script)"
   ]
  },
  {
   "cell_type": "code",
   "execution_count": null,
   "id": "00452155",
   "metadata": {},
   "outputs": [],
   "source": [
    "sys.stdout = original_stdout"
   ]
  },
  {
   "cell_type": "code",
   "execution_count": null,
   "id": "18755765-8322-49bd-ad7d-0acbcc18025b",
   "metadata": {},
   "outputs": [],
   "source": []
  },
  {
   "cell_type": "code",
   "execution_count": null,
   "id": "89e4ffe0-3327-48f2-af4d-601872042d65",
   "metadata": {},
   "outputs": [],
   "source": []
  }
 ],
 "metadata": {
  "kernelspec": {
   "display_name": "Python 3 (ipykernel)",
   "language": "python",
   "name": "python3"
  },
  "language_info": {
   "codemirror_mode": {
    "name": "ipython",
    "version": 3
   },
   "file_extension": ".py",
   "mimetype": "text/x-python",
   "name": "python",
   "nbconvert_exporter": "python",
   "pygments_lexer": "ipython3",
   "version": "3.9.7"
  }
 },
 "nbformat": 4,
 "nbformat_minor": 5
}
